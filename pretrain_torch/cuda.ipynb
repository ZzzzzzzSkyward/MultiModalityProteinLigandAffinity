{
  "nbformat": 4,
  "nbformat_minor": 0,
  "metadata": {
    "colab": {
      "provenance": [],
      "machine_shape": "hm"
    },
    "kernelspec": {
      "name": "python3",
      "display_name": "Python 3"
    },
    "accelerator": "GPU",
    "gpuClass": "standard"
  },
  "cells": [
    {
      "cell_type": "code",
      "metadata": {
        "id": "tZRSiDYNQLSr"
      },
      "source": [
        "from google.colab import drive\n",
        "drive.mount('/content/drive')"
      ],
      "execution_count": null,
      "outputs": []
    },
    {
      "cell_type": "code",
      "source": [
        "!pip install torch==1.4.0"
      ],
      "metadata": {
        "id": "Q0UT1ivwvNpr"
      },
      "execution_count": null,
      "outputs": []
    },
    {
      "cell_type": "code",
      "metadata": {
        "id": "87T5BetZQYQv"
      },
      "source": [
        "cp ./drive/MyDrive/pretrain_data.zip ./pretrain_data.zip"
      ],
      "execution_count": null,
      "outputs": []
    },
    {
      "cell_type": "code",
      "metadata": {
        "id": "YOckP_sYQcda"
      },
      "source": [
        "!unzip pretrain_data.zip"
      ],
      "execution_count": null,
      "outputs": []
    },
    {
      "cell_type": "code",
      "metadata": {
        "id": "_F9FfyFSQl_5",
        "collapsed": true
      },
      "source": [
        "!unzip finetune_torch.zip"
      ],
      "execution_count": null,
      "outputs": []
    },
    {
      "cell_type": "code",
      "metadata": {
        "collapsed": true,
        "id": "liG6pSg3Ubdh"
      },
      "source": [
        "!unzip pretrain_torch.zip"
      ],
      "execution_count": null,
      "outputs": []
    },
    {
      "cell_type": "code",
      "source": [
        "!unzip weights.zip weights/"
      ],
      "metadata": {
        "id": "GweY8rxAizlF"
      },
      "execution_count": null,
      "outputs": []
    },
    {
      "cell_type": "code",
      "metadata": {
        "id": "xalsFDNyQp66",
        "collapsed": true
      },
      "source": [
        "!cd finetune_torch; python main_concatenation_parallel_cuda.py --train=1 --epoch=1"
      ],
      "execution_count": null,
      "outputs": []
    },
    {
      "cell_type": "code",
      "source": [
        "!cd pretrain_torch; python cuda.py --batch_size=80 --resume=1 --epoch=3 --ss_seq mask --ss_graph mask --p_seq_mask 0.15 --p_graph_mask 0.15 --p_graph_sub=0.1  --p_seq_sub=0.1 --p_graph_drop=0.05"
      ],
      "metadata": {
        "id": "LLnHHS3ZUk9Y"
      },
      "execution_count": null,
      "outputs": []
    },
    {
      "cell_type": "code",
      "metadata": {
        "id": "XryjXIYhQ_gM"
      },
      "source": [
        "!mv cuda.py pretrain_torch/"
      ],
      "execution_count": null,
      "outputs": []
    },
    {
      "cell_type": "code",
      "source": [
        "!cp pretrain_torch/utils.py utils.py\n",
        "!cp pretrain_torch/net.py net.py"
      ],
      "metadata": {
        "id": "9yPmfp14sf70"
      },
      "execution_count": null,
      "outputs": []
    },
    {
      "cell_type": "code",
      "source": [
        "!cd pretrain_torch; python cuda.py --ss_seq mask --ss_graph none --p_seq_mask 0.05 --p_graph_mask 0.05"
      ],
      "metadata": {
        "id": "Vc2IN25HRxsF"
      },
      "execution_count": null,
      "outputs": []
    }
  ]
}